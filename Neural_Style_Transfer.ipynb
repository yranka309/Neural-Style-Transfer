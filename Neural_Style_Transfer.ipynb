{
 "cells": [
  {
   "cell_type": "code",
   "execution_count": 21,
   "metadata": {},
   "outputs": [],
   "source": [
    "import scipy.io\n",
    "import numpy as np\n",
    "import scipy.misc\n",
    "import numpy as np\n",
    "import tensorflow as tf\n",
    "import matplotlib.pyplot as plt\n",
    "from keras.preprocessing import image"
   ]
  },
  {
   "cell_type": "code",
   "execution_count": 22,
   "metadata": {},
   "outputs": [],
   "source": [
    "class CONFIG:\n",
    "    IMAGE_WIDTH = 400\n",
    "    IMAGE_HEIGHT = 300\n",
    "    COLOR_CHANNELS = 3\n",
    "    NOISE_RATIO = 0.2\n",
    "    MEANS = np.array([123.68, 116.779, 103.939]).reshape((1,1,1,3)) \n",
    "    VGG_MODEL = 'pretrained_model/imagenet-vgg-verydeep-19.mat' # Pick the VGG 19-layer model by from the paper \"Very Deep Convolutional Networks for Large-Scale Image Recognition\".\n",
    "    VGG_MODEL_URL = 'http://www.vlfeat.org/matconvnet/models/imagenet-vgg-verydeep-19.mat'\n",
    "    STYLE_IMAGE = 'output/S.jpg' # Style image to use.\n",
    "    CONTENT_IMAGE = 'output/c1.jpg' # Content image to use.\n",
    "    OUTPUT_DIR = 'output/'\n",
    "    STYLE_LAYERS = [('conv1_1', 0.2),\n",
    "                    ('conv2_1', 0.2),\n",
    "                    ('conv3_1', 0.2),\n",
    "                    ('conv4_1', 0.2),\n",
    "                    ('conv5_1', 0.2)]\n",
    "    LEARNING_RATE = 2.0\n",
    "    NUM_ITERATIONS = 200\n",
    "    ALPHA = 10\n",
    "    BETA = 40"
   ]
  },
  {
   "cell_type": "code",
   "execution_count": 23,
   "metadata": {},
   "outputs": [],
   "source": [
    "_shape = (CONFIG.IMAGE_HEIGHT , CONFIG.IMAGE_WIDTH , CONFIG.COLOR_CHANNELS)"
   ]
  },
  {
   "cell_type": "code",
   "execution_count": 24,
   "metadata": {},
   "outputs": [],
   "source": [
    "def load_vgg_model(path):\n",
    "    \"\"\"\n",
    "    Returns a model for the purpose of 'painting' the picture.\n",
    "    Takes only the convolution layer weights and wrap using the TensorFlow\n",
    "    Conv2d, Relu and AveragePooling layer. VGG actually uses maxpool but\n",
    "    the paper indicates that using AveragePooling yields better results.\n",
    "    The last few fully connected layers are not used.\n",
    "    Here is the detailed configuration of the VGG model:\n",
    "        0 is conv1_1 (3, 3, 3, 64)\n",
    "        1 is relu\n",
    "        2 is conv1_2 (3, 3, 64, 64)\n",
    "        3 is relu    \n",
    "        4 is maxpool\n",
    "        5 is conv2_1 (3, 3, 64, 128)\n",
    "        6 is relu\n",
    "        7 is conv2_2 (3, 3, 128, 128)\n",
    "        8 is relu\n",
    "        9 is maxpool\n",
    "        10 is conv3_1 (3, 3, 128, 256)\n",
    "        11 is relu\n",
    "        12 is conv3_2 (3, 3, 256, 256)\n",
    "        13 is relu\n",
    "        14 is conv3_3 (3, 3, 256, 256)\n",
    "        15 is relu\n",
    "        16 is conv3_4 (3, 3, 256, 256)\n",
    "        17 is relu\n",
    "        18 is maxpool\n",
    "        19 is conv4_1 (3, 3, 256, 512)\n",
    "        20 is relu\n",
    "        21 is conv4_2 (3, 3, 512, 512)\n",
    "        22 is relu\n",
    "        23 is conv4_3 (3, 3, 512, 512)\n",
    "        24 is relu\n",
    "        25 is conv4_4 (3, 3, 512, 512)\n",
    "        26 is relu\n",
    "        27 is maxpool\n",
    "        28 is conv5_1 (3, 3, 512, 512)\n",
    "        29 is relu\n",
    "        30 is conv5_2 (3, 3, 512, 512)\n",
    "        31 is relu\n",
    "        32 is conv5_3 (3, 3, 512, 512)\n",
    "        33 is relu\n",
    "        34 is conv5_4 (3, 3, 512, 512)\n",
    "        35 is relu\n",
    "        36 is maxpool\n",
    "        37 is fullyconnected (7, 7, 512, 4096)\n",
    "        38 is relu\n",
    "        39 is fullyconnected (1, 1, 4096, 4096)\n",
    "        40 is relu\n",
    "        41 is fullyconnected (1, 1, 4096, 1000)\n",
    "        42 is softmax\n",
    "    \"\"\"\n",
    "    \n",
    "    vgg = scipy.io.loadmat(path)\n",
    "    vgg_layers = vgg['layers']\n",
    "    \n",
    "    def _weights(layer , expected_layer_name):\n",
    "        \n",
    "        #Return the weights and bias from VGG model for a given layer\n",
    "    \n",
    "        wb = vgg_layers[0][layer][0][0][2]\n",
    "        W = wb[0][0]\n",
    "        b = wb[0][1]\n",
    "        layer_name = vgg_layers[0][layer][0][0][0][0]\n",
    "        assert(layer_name == expected_layer_name)\n",
    "\n",
    "        return W,b\n",
    "    \n",
    "    def _relu(conv2d_layer):\n",
    "        \n",
    "        # Return the RELU function wrapped over tensorflow layer .\n",
    "        \n",
    "        return tf.nn.relu(conv2d_layer)\n",
    "    \n",
    "    def _conv2d(prev_layer , layer , layer_name):\n",
    "\n",
    "        #Return Conv2d layer using the weights,biases from vgg modelat layer 'l'.\n",
    "\n",
    "        W,b = _weights(layer , layer_name)\n",
    "        W = tf.constant(W)\n",
    "        b = tf.constant(np.reshape(b , (b.size)))\n",
    "\n",
    "        return tf.nn.conv2d(prev_layer , filter = W , strides = [1,1,1,1] , padding = 'SAME') + b\n",
    "    \n",
    "    \n",
    "    def _conv2d_relu(prev_layer , layer , layer_name):\n",
    "\n",
    "        #Return the conv2d + RELU layer using the weights and biases from VGG model at layer 'l'.\n",
    "\n",
    "        return _relu(_conv2d(prev_layer , layer , layer_name))\n",
    "    \n",
    "    \n",
    "    def _avgpool(prev_layer):\n",
    "\n",
    "        # Return the AveragePooling layer.\n",
    "\n",
    "        return tf.nn.avg_pool(prev_layer , ksize = [1,2,2,1] , strides = [1,2,2,1] , padding = 'SAME')\n",
    "    \n",
    "    \n",
    "    # Construct the graph model.\n",
    "\n",
    "    graph = {}\n",
    "    graph['input']   = tf.Variable(np.zeros((1,)+_shape), dtype = 'float32')\n",
    "    graph['conv1_1']  = _conv2d_relu(graph['input'], 0, 'conv1_1')\n",
    "    graph['conv1_2']  = _conv2d_relu(graph['conv1_1'], 2, 'conv1_2')\n",
    "    graph['avgpool1'] = _avgpool(graph['conv1_2'])\n",
    "    graph['conv2_1']  = _conv2d_relu(graph['avgpool1'], 5, 'conv2_1')\n",
    "    graph['conv2_2']  = _conv2d_relu(graph['conv2_1'], 7, 'conv2_2')\n",
    "    graph['avgpool2'] = _avgpool(graph['conv2_2'])\n",
    "    graph['conv3_1']  = _conv2d_relu(graph['avgpool2'], 10, 'conv3_1')\n",
    "    graph['conv3_2']  = _conv2d_relu(graph['conv3_1'], 12, 'conv3_2')\n",
    "    graph['conv3_3']  = _conv2d_relu(graph['conv3_2'], 14, 'conv3_3')\n",
    "    graph['conv3_4']  = _conv2d_relu(graph['conv3_3'], 16, 'conv3_4')\n",
    "    graph['avgpool3'] = _avgpool(graph['conv3_4'])\n",
    "    graph['conv4_1']  = _conv2d_relu(graph['avgpool3'], 19, 'conv4_1')\n",
    "    graph['conv4_2']  = _conv2d_relu(graph['conv4_1'], 21, 'conv4_2')\n",
    "    graph['conv4_3']  = _conv2d_relu(graph['conv4_2'], 23, 'conv4_3')\n",
    "    graph['conv4_4']  = _conv2d_relu(graph['conv4_3'], 25, 'conv4_4')\n",
    "    graph['avgpool4'] = _avgpool(graph['conv4_4'])\n",
    "    graph['conv5_1']  = _conv2d_relu(graph['avgpool4'], 28, 'conv5_1')\n",
    "    graph['conv5_2']  = _conv2d_relu(graph['conv5_1'], 30, 'conv5_2')\n",
    "    graph['conv5_3']  = _conv2d_relu(graph['conv5_2'], 32, 'conv5_3')\n",
    "    graph['conv5_4']  = _conv2d_relu(graph['conv5_3'], 34, 'conv5_4')\n",
    "    graph['avgpool5'] = _avgpool(graph['conv5_4'])\n",
    "    \n",
    "    return graph"
   ]
  },
  {
   "cell_type": "code",
   "execution_count": 25,
   "metadata": {},
   "outputs": [],
   "source": [
    "def load_image(path):\n",
    "    _image = image.load_img(path,target_size=_shape)\n",
    "    _image = image.img_to_array(_image)\n",
    "    _image = np.expand_dims(_image, axis = 0)\n",
    "    _image = _image -CONFIG.MEANS\n",
    "    return _image"
   ]
  },
  {
   "cell_type": "code",
   "execution_count": 26,
   "metadata": {},
   "outputs": [],
   "source": [
    "def generate_image():\n",
    "    return np.random.uniform(-256. , 256. , ((1,)+_shape)) * CONFIG.NOISE_RATIO + load_image(CONFIG.CONTENT_IMAGE)*(1 - CONFIG.NOISE_RATIO)"
   ]
  },
  {
   "cell_type": "code",
   "execution_count": 27,
   "metadata": {},
   "outputs": [],
   "source": [
    "def save_image(path,image):\n",
    "    # Saving image in path directory\n",
    "    image = image + CONFIG.MEANS\n",
    "    image = np.clip(image[0], 0 , 255).astype('uint8')\n",
    "    scipy.misc.imsave(path,image)"
   ]
  },
  {
   "cell_type": "code",
   "execution_count": 28,
   "metadata": {},
   "outputs": [],
   "source": [
    "def content_cost(a_C , a_G):\n",
    "    m , n_H , n_W , n_C = a_G.get_shape().as_list()\n",
    "    a_G_unrolled = tf.transpose(tf.reshape(a_G , shape = (m , n_H*n_W , n_C)))\n",
    "    a_C_unrolled = tf.transpose(tf.reshape(a_C , shape = (m , n_H*n_W , n_C)))\n",
    "    J_content = tf.reduce_sum(tf.square(a_C_unrolled - a_G_unrolled))/(4*n_H*n_W*n_C)\n",
    "    return J_content"
   ]
  },
  {
   "cell_type": "code",
   "execution_count": 29,
   "metadata": {},
   "outputs": [],
   "source": [
    "def gram_matrix(A):\n",
    "    GA = tf.matmul(A,tf.transpose(A))\n",
    "    return GA"
   ]
  },
  {
   "cell_type": "code",
   "execution_count": 30,
   "metadata": {},
   "outputs": [],
   "source": [
    "def compute_layer_style_cost(a_S , a_G):\n",
    "    m , n_H , n_W , n_C  = a_G.get_shape().as_list()\n",
    "    a_G = tf.transpose(tf.reshape(a_G , shape = (n_H*n_W,n_C)))\n",
    "    a_S = tf.transpose(tf.reshape(a_S , shape = (n_H*n_W,n_C)))\n",
    "    GS = gram_matrix(a_S)\n",
    "    GG = gram_matrix(a_G)\n",
    "    J_style_layer = tf.reduce_sum(tf.square(tf.subtract(GS,GG)))/(4*(n_H*n_W*n_C)**2)\n",
    "    return J_style_layer"
   ]
  },
  {
   "cell_type": "code",
   "execution_count": 31,
   "metadata": {},
   "outputs": [],
   "source": [
    "def compute_style_cost(model , STYLE_LAYERS):\n",
    "    J_style = 0\n",
    "    for layer_name,coeff in STYLE_LAYERS:\n",
    "        out = model[layer_name]\n",
    "        a_S = sess.run(out)\n",
    "        a_G = out\n",
    "        J_style_layer = compute_layer_style_cost(a_S,a_G)\n",
    "        J_style += coeff * J_style_layer\n",
    "    return J_style"
   ]
  },
  {
   "cell_type": "code",
   "execution_count": 32,
   "metadata": {},
   "outputs": [],
   "source": [
    "def total_cost(J_content , J_style , alpha = 10 , beta = 40):\n",
    "    return alpha * J_content + beta * J_style"
   ]
  },
  {
   "cell_type": "code",
   "execution_count": 33,
   "metadata": {},
   "outputs": [],
   "source": [
    "content_image = load_image(CONFIG.CONTENT_IMAGE)\n",
    "style_image = load_image(CONFIG.STYLE_IMAGE)\n",
    "generated_image = generate_image()"
   ]
  },
  {
   "cell_type": "code",
   "execution_count": 34,
   "metadata": {},
   "outputs": [],
   "source": [
    "sess = tf.Session()\n",
    "\n",
    "model = load_vgg_model(CONFIG.VGG_MODEL)\n",
    "sess.run(model['input'].assign(content_image))\n",
    "out = model['conv4_2']\n",
    "a_C = sess.run(out)\n",
    "a_G = out\n",
    "J_content = content_cost(a_C , a_G)"
   ]
  },
  {
   "cell_type": "code",
   "execution_count": 35,
   "metadata": {},
   "outputs": [],
   "source": [
    "sess.run(model['input'].assign(style_image))\n",
    "J_style = compute_style_cost(model , CONFIG.STYLE_LAYERS)\n",
    "J = total_cost(J_content , J_style , alpha = CONFIG.ALPHA , beta = CONFIG.BETA)\n"
   ]
  },
  {
   "cell_type": "code",
   "execution_count": 36,
   "metadata": {},
   "outputs": [],
   "source": [
    "optimizer = tf.train.AdamOptimizer(CONFIG.LEARNING_RATE)\n",
    "train_step = optimizer.minimize(J)"
   ]
  },
  {
   "cell_type": "code",
   "execution_count": 37,
   "metadata": {},
   "outputs": [
    {
     "data": {
      "text/plain": [
       "array([[[[-8.66417465e+01, -8.51450500e+01,  4.35031242e+01],\n",
       "         [-6.68517838e+01, -5.68648720e+01, -4.72635031e+00],\n",
       "         [-1.13458664e+02, -7.61351809e-02,  3.40110092e+01],\n",
       "         ...,\n",
       "         [-3.89655228e+01, -5.00660706e+01,  4.16572304e+01],\n",
       "         [-8.04709778e+01, -1.32650814e+01,  1.17242460e+01],\n",
       "         [-3.29993172e+01, -9.09407520e+00, -4.07371559e+01]],\n",
       "\n",
       "        [[-1.24182068e+02, -3.50915298e+01, -7.77318001e+00],\n",
       "         [-3.78029404e+01, -1.62827911e+01,  1.93552265e+01],\n",
       "         [-4.40502663e+01, -3.17742672e+01, -4.00445318e+00],\n",
       "         ...,\n",
       "         [-1.14189308e+02, -6.46603165e+01, -2.23760414e+00],\n",
       "         [-5.99161644e+01, -7.80218048e+01,  1.53413515e+01],\n",
       "         [-3.99276237e+01, -7.58823471e+01, -4.17116585e+01]],\n",
       "\n",
       "        [[-1.28764374e+02,  5.40921354e+00,  3.37804680e+01],\n",
       "         [-6.16179352e+01, -8.59606323e+01,  5.26306496e+01],\n",
       "         [-3.55835342e+01, -3.59415092e+01,  5.48800621e+01],\n",
       "         ...,\n",
       "         [-5.73549232e+01, -6.65918655e+01,  3.93802032e+01],\n",
       "         [-1.16435120e+02, -1.87728634e+01,  2.83930550e+01],\n",
       "         [-1.09374626e+02, -5.92413673e+01,  3.50941429e+01]],\n",
       "\n",
       "        ...,\n",
       "\n",
       "        [[-7.77252350e+01, -7.54671326e+01, -3.59848404e+00],\n",
       "         [-3.17435608e+01, -5.24527626e+01,  4.63254690e+00],\n",
       "         [-9.87410736e+01, -4.29312553e+01, -1.64483814e+01],\n",
       "         ...,\n",
       "         [-8.97686386e+01, -7.83545151e+01, -5.86849785e+01],\n",
       "         [-6.52501984e+01, -9.57398148e+01, -8.11684570e+01],\n",
       "         [-2.32483234e+01, -5.73193512e+01, -6.09159660e+01]],\n",
       "\n",
       "        [[ 9.48319817e+00, -6.62608948e+01,  7.90638328e-01],\n",
       "         [-2.24015064e+01, -3.40372734e+01,  1.59469461e+01],\n",
       "         [-3.03645153e+01, -3.63120341e+00, -3.61586227e+01],\n",
       "         ...,\n",
       "         [-6.50678482e+01, -8.83110733e+01, -9.34084473e+01],\n",
       "         [-2.51618805e+01, -8.85871582e+01, -8.81869431e+01],\n",
       "         [-7.22498627e+01, -4.37143364e+01, -5.60642052e+01]],\n",
       "\n",
       "        [[-4.52112198e+01,  3.04550152e+01, -9.59009933e+00],\n",
       "         [-1.25866251e+01, -5.47247772e+01, -3.66823578e+01],\n",
       "         [-7.00721054e+01, -1.93717308e+01, -3.44771690e+01],\n",
       "         ...,\n",
       "         [-2.76135349e+01, -4.20779991e+01, -2.06837902e+01],\n",
       "         [-6.35423012e+01, -2.94497280e+01, -1.28008671e+01],\n",
       "         [-7.36435013e+01, -1.70881271e+01, -5.77165508e+00]]]],\n",
       "      dtype=float32)"
      ]
     },
     "execution_count": 37,
     "metadata": {},
     "output_type": "execute_result"
    }
   ],
   "source": [
    "sess.run(tf.global_variables_initializer())\n",
    "sess.run(model['input'].assign(generated_image))\n"
   ]
  },
  {
   "cell_type": "code",
   "execution_count": 38,
   "metadata": {},
   "outputs": [
    {
     "name": "stdout",
     "output_type": "stream",
     "text": [
      "Iterations 0:\n",
      "Total cost = 2765181000.0\n",
      "Content cost = 8035.8013\n",
      "Style cost = 69127510.0\n"
     ]
    },
    {
     "name": "stderr",
     "output_type": "stream",
     "text": [
      "C:\\Users\\YRanka\\.conda\\envs\\tfp3.7\\lib\\site-packages\\ipykernel_launcher.py:5: DeprecationWarning: `imsave` is deprecated!\n",
      "`imsave` is deprecated in SciPy 1.0.0, and will be removed in 1.2.0.\n",
      "Use ``imageio.imwrite`` instead.\n",
      "  \"\"\"\n"
     ]
    },
    {
     "name": "stdout",
     "output_type": "stream",
     "text": [
      "Iterations 10:\n",
      "Total cost = 613017860.0\n",
      "Content cost = 12449.7\n",
      "Style cost = 15322335.0\n",
      "Iterations 20:\n",
      "Total cost = 291823550.0\n",
      "Content cost = 13548.195\n",
      "Style cost = 7292201.5\n",
      "Iterations 30:\n",
      "Total cost = 186632960.0\n",
      "Content cost = 13900.751\n",
      "Style cost = 4662349.0\n",
      "Iterations 40:\n",
      "Total cost = 130389480.0\n",
      "Content cost = 14508.25\n",
      "Style cost = 3256110.0\n",
      "Iterations 50:\n",
      "Total cost = 98084540.0\n",
      "Content cost = 14865.796\n",
      "Style cost = 2448397.2\n",
      "Iterations 60:\n",
      "Total cost = 78423630.0\n",
      "Content cost = 15112.33\n",
      "Style cost = 1956812.8\n",
      "Iterations 70:\n",
      "Total cost = 64954540.0\n",
      "Content cost = 15293.229\n",
      "Style cost = 1620040.2\n",
      "Iterations 80:\n",
      "Total cost = 55279930.0\n",
      "Content cost = 15429.673\n",
      "Style cost = 1378140.8\n",
      "Iterations 90:\n",
      "Total cost = 47983550.0\n",
      "Content cost = 15553.296\n",
      "Style cost = 1195700.5\n",
      "Iterations 100:\n",
      "Total cost = 42332652.0\n",
      "Content cost = 15653.787\n",
      "Style cost = 1054402.9\n",
      "Iterations 110:\n",
      "Total cost = 37844360.0\n",
      "Content cost = 15744.603\n",
      "Style cost = 942172.75\n",
      "Iterations 120:\n",
      "Total cost = 34230190.0\n",
      "Content cost = 15825.844\n",
      "Style cost = 851798.3\n",
      "Iterations 130:\n",
      "Total cost = 31253682.0\n",
      "Content cost = 15895.239\n",
      "Style cost = 777368.25\n",
      "Iterations 140:\n",
      "Total cost = 28770322.0\n",
      "Content cost = 15961.724\n",
      "Style cost = 715267.6\n",
      "Iterations 150:\n",
      "Total cost = 26669148.0\n",
      "Content cost = 16027.295\n",
      "Style cost = 662721.9\n",
      "Iterations 160:\n",
      "Total cost = 24865768.0\n",
      "Content cost = 16093.85\n",
      "Style cost = 617620.75\n",
      "Iterations 170:\n",
      "Total cost = 23292776.0\n",
      "Content cost = 16154.658\n",
      "Style cost = 578280.75\n",
      "Iterations 180:\n",
      "Total cost = 21909254.0\n",
      "Content cost = 16211.518\n",
      "Style cost = 543678.44\n",
      "Iterations 190:\n",
      "Total cost = 20686574.0\n",
      "Content cost = 16266.275\n",
      "Style cost = 513097.78\n"
     ]
    },
    {
     "ename": "TypeError",
     "evalue": "Invalid shape (1, 300, 400, 3) for image data",
     "output_type": "error",
     "traceback": [
      "\u001b[1;31m---------------------------------------------------------------------------\u001b[0m",
      "\u001b[1;31mTypeError\u001b[0m                                 Traceback (most recent call last)",
      "\u001b[1;32m<ipython-input-38-893047d6e09e>\u001b[0m in \u001b[0;36m<module>\u001b[1;34m\u001b[0m\n\u001b[0;32m     11\u001b[0m \u001b[1;33m\u001b[0m\u001b[0m\n\u001b[0;32m     12\u001b[0m \u001b[0msave_image\u001b[0m\u001b[1;33m(\u001b[0m\u001b[0mCONFIG\u001b[0m\u001b[1;33m.\u001b[0m\u001b[0mOUTPUT_DIR\u001b[0m \u001b[1;33m+\u001b[0m \u001b[1;34m'/generated_image.jpg'\u001b[0m \u001b[1;33m,\u001b[0m \u001b[0mgenerated_image\u001b[0m\u001b[1;33m)\u001b[0m\u001b[1;33m\u001b[0m\u001b[1;33m\u001b[0m\u001b[0m\n\u001b[1;32m---> 13\u001b[1;33m \u001b[0mplt\u001b[0m\u001b[1;33m.\u001b[0m\u001b[0mimshow\u001b[0m\u001b[1;33m(\u001b[0m\u001b[0mcontent_image\u001b[0m\u001b[1;33m)\u001b[0m\u001b[1;33m\u001b[0m\u001b[1;33m\u001b[0m\u001b[0m\n\u001b[0m\u001b[0;32m     14\u001b[0m \u001b[0mplt\u001b[0m\u001b[1;33m.\u001b[0m\u001b[0mimshow\u001b[0m\u001b[1;33m(\u001b[0m\u001b[0mstyle_image\u001b[0m\u001b[1;33m)\u001b[0m\u001b[1;33m\u001b[0m\u001b[1;33m\u001b[0m\u001b[0m\n\u001b[0;32m     15\u001b[0m \u001b[0mplt\u001b[0m\u001b[1;33m.\u001b[0m\u001b[0mimshow\u001b[0m\u001b[1;33m(\u001b[0m\u001b[0mgenerated_image\u001b[0m\u001b[1;33m)\u001b[0m\u001b[1;33m\u001b[0m\u001b[1;33m\u001b[0m\u001b[0m\n",
      "\u001b[1;32m~\\.conda\\envs\\tfp3.7\\lib\\site-packages\\matplotlib\\pyplot.py\u001b[0m in \u001b[0;36mimshow\u001b[1;34m(X, cmap, norm, aspect, interpolation, alpha, vmin, vmax, origin, extent, shape, filternorm, filterrad, imlim, resample, url, data, **kwargs)\u001b[0m\n\u001b[0;32m   2675\u001b[0m         \u001b[0mfilternorm\u001b[0m\u001b[1;33m=\u001b[0m\u001b[0mfilternorm\u001b[0m\u001b[1;33m,\u001b[0m \u001b[0mfilterrad\u001b[0m\u001b[1;33m=\u001b[0m\u001b[0mfilterrad\u001b[0m\u001b[1;33m,\u001b[0m \u001b[0mimlim\u001b[0m\u001b[1;33m=\u001b[0m\u001b[0mimlim\u001b[0m\u001b[1;33m,\u001b[0m\u001b[1;33m\u001b[0m\u001b[1;33m\u001b[0m\u001b[0m\n\u001b[0;32m   2676\u001b[0m         resample=resample, url=url, **({\"data\": data} if data is not\n\u001b[1;32m-> 2677\u001b[1;33m         None else {}), **kwargs)\n\u001b[0m\u001b[0;32m   2678\u001b[0m     \u001b[0msci\u001b[0m\u001b[1;33m(\u001b[0m\u001b[0m__ret\u001b[0m\u001b[1;33m)\u001b[0m\u001b[1;33m\u001b[0m\u001b[1;33m\u001b[0m\u001b[0m\n\u001b[0;32m   2679\u001b[0m     \u001b[1;32mreturn\u001b[0m \u001b[0m__ret\u001b[0m\u001b[1;33m\u001b[0m\u001b[1;33m\u001b[0m\u001b[0m\n",
      "\u001b[1;32m~\\.conda\\envs\\tfp3.7\\lib\\site-packages\\matplotlib\\__init__.py\u001b[0m in \u001b[0;36minner\u001b[1;34m(ax, data, *args, **kwargs)\u001b[0m\n\u001b[0;32m   1587\u001b[0m     \u001b[1;32mdef\u001b[0m \u001b[0minner\u001b[0m\u001b[1;33m(\u001b[0m\u001b[0max\u001b[0m\u001b[1;33m,\u001b[0m \u001b[1;33m*\u001b[0m\u001b[0margs\u001b[0m\u001b[1;33m,\u001b[0m \u001b[0mdata\u001b[0m\u001b[1;33m=\u001b[0m\u001b[1;32mNone\u001b[0m\u001b[1;33m,\u001b[0m \u001b[1;33m**\u001b[0m\u001b[0mkwargs\u001b[0m\u001b[1;33m)\u001b[0m\u001b[1;33m:\u001b[0m\u001b[1;33m\u001b[0m\u001b[1;33m\u001b[0m\u001b[0m\n\u001b[0;32m   1588\u001b[0m         \u001b[1;32mif\u001b[0m \u001b[0mdata\u001b[0m \u001b[1;32mis\u001b[0m \u001b[1;32mNone\u001b[0m\u001b[1;33m:\u001b[0m\u001b[1;33m\u001b[0m\u001b[1;33m\u001b[0m\u001b[0m\n\u001b[1;32m-> 1589\u001b[1;33m             \u001b[1;32mreturn\u001b[0m \u001b[0mfunc\u001b[0m\u001b[1;33m(\u001b[0m\u001b[0max\u001b[0m\u001b[1;33m,\u001b[0m \u001b[1;33m*\u001b[0m\u001b[0mmap\u001b[0m\u001b[1;33m(\u001b[0m\u001b[0msanitize_sequence\u001b[0m\u001b[1;33m,\u001b[0m \u001b[0margs\u001b[0m\u001b[1;33m)\u001b[0m\u001b[1;33m,\u001b[0m \u001b[1;33m**\u001b[0m\u001b[0mkwargs\u001b[0m\u001b[1;33m)\u001b[0m\u001b[1;33m\u001b[0m\u001b[1;33m\u001b[0m\u001b[0m\n\u001b[0m\u001b[0;32m   1590\u001b[0m \u001b[1;33m\u001b[0m\u001b[0m\n\u001b[0;32m   1591\u001b[0m         \u001b[0mbound\u001b[0m \u001b[1;33m=\u001b[0m \u001b[0mnew_sig\u001b[0m\u001b[1;33m.\u001b[0m\u001b[0mbind\u001b[0m\u001b[1;33m(\u001b[0m\u001b[0max\u001b[0m\u001b[1;33m,\u001b[0m \u001b[1;33m*\u001b[0m\u001b[0margs\u001b[0m\u001b[1;33m,\u001b[0m \u001b[1;33m**\u001b[0m\u001b[0mkwargs\u001b[0m\u001b[1;33m)\u001b[0m\u001b[1;33m\u001b[0m\u001b[1;33m\u001b[0m\u001b[0m\n",
      "\u001b[1;32m~\\.conda\\envs\\tfp3.7\\lib\\site-packages\\matplotlib\\cbook\\deprecation.py\u001b[0m in \u001b[0;36mwrapper\u001b[1;34m(*args, **kwargs)\u001b[0m\n\u001b[0;32m    367\u001b[0m                 \u001b[1;34mf\"%(removal)s.  If any parameter follows {name!r}, they \"\u001b[0m\u001b[1;33m\u001b[0m\u001b[1;33m\u001b[0m\u001b[0m\n\u001b[0;32m    368\u001b[0m                 f\"should be pass as keyword, not positionally.\")\n\u001b[1;32m--> 369\u001b[1;33m         \u001b[1;32mreturn\u001b[0m \u001b[0mfunc\u001b[0m\u001b[1;33m(\u001b[0m\u001b[1;33m*\u001b[0m\u001b[0margs\u001b[0m\u001b[1;33m,\u001b[0m \u001b[1;33m**\u001b[0m\u001b[0mkwargs\u001b[0m\u001b[1;33m)\u001b[0m\u001b[1;33m\u001b[0m\u001b[1;33m\u001b[0m\u001b[0m\n\u001b[0m\u001b[0;32m    370\u001b[0m \u001b[1;33m\u001b[0m\u001b[0m\n\u001b[0;32m    371\u001b[0m     \u001b[1;32mreturn\u001b[0m \u001b[0mwrapper\u001b[0m\u001b[1;33m\u001b[0m\u001b[1;33m\u001b[0m\u001b[0m\n",
      "\u001b[1;32m~\\.conda\\envs\\tfp3.7\\lib\\site-packages\\matplotlib\\cbook\\deprecation.py\u001b[0m in \u001b[0;36mwrapper\u001b[1;34m(*args, **kwargs)\u001b[0m\n\u001b[0;32m    367\u001b[0m                 \u001b[1;34mf\"%(removal)s.  If any parameter follows {name!r}, they \"\u001b[0m\u001b[1;33m\u001b[0m\u001b[1;33m\u001b[0m\u001b[0m\n\u001b[0;32m    368\u001b[0m                 f\"should be pass as keyword, not positionally.\")\n\u001b[1;32m--> 369\u001b[1;33m         \u001b[1;32mreturn\u001b[0m \u001b[0mfunc\u001b[0m\u001b[1;33m(\u001b[0m\u001b[1;33m*\u001b[0m\u001b[0margs\u001b[0m\u001b[1;33m,\u001b[0m \u001b[1;33m**\u001b[0m\u001b[0mkwargs\u001b[0m\u001b[1;33m)\u001b[0m\u001b[1;33m\u001b[0m\u001b[1;33m\u001b[0m\u001b[0m\n\u001b[0m\u001b[0;32m    370\u001b[0m \u001b[1;33m\u001b[0m\u001b[0m\n\u001b[0;32m    371\u001b[0m     \u001b[1;32mreturn\u001b[0m \u001b[0mwrapper\u001b[0m\u001b[1;33m\u001b[0m\u001b[1;33m\u001b[0m\u001b[0m\n",
      "\u001b[1;32m~\\.conda\\envs\\tfp3.7\\lib\\site-packages\\matplotlib\\axes\\_axes.py\u001b[0m in \u001b[0;36mimshow\u001b[1;34m(self, X, cmap, norm, aspect, interpolation, alpha, vmin, vmax, origin, extent, shape, filternorm, filterrad, imlim, resample, url, **kwargs)\u001b[0m\n\u001b[0;32m   5658\u001b[0m                               resample=resample, **kwargs)\n\u001b[0;32m   5659\u001b[0m \u001b[1;33m\u001b[0m\u001b[0m\n\u001b[1;32m-> 5660\u001b[1;33m         \u001b[0mim\u001b[0m\u001b[1;33m.\u001b[0m\u001b[0mset_data\u001b[0m\u001b[1;33m(\u001b[0m\u001b[0mX\u001b[0m\u001b[1;33m)\u001b[0m\u001b[1;33m\u001b[0m\u001b[1;33m\u001b[0m\u001b[0m\n\u001b[0m\u001b[0;32m   5661\u001b[0m         \u001b[0mim\u001b[0m\u001b[1;33m.\u001b[0m\u001b[0mset_alpha\u001b[0m\u001b[1;33m(\u001b[0m\u001b[0malpha\u001b[0m\u001b[1;33m)\u001b[0m\u001b[1;33m\u001b[0m\u001b[1;33m\u001b[0m\u001b[0m\n\u001b[0;32m   5662\u001b[0m         \u001b[1;32mif\u001b[0m \u001b[0mim\u001b[0m\u001b[1;33m.\u001b[0m\u001b[0mget_clip_path\u001b[0m\u001b[1;33m(\u001b[0m\u001b[1;33m)\u001b[0m \u001b[1;32mis\u001b[0m \u001b[1;32mNone\u001b[0m\u001b[1;33m:\u001b[0m\u001b[1;33m\u001b[0m\u001b[1;33m\u001b[0m\u001b[0m\n",
      "\u001b[1;32m~\\.conda\\envs\\tfp3.7\\lib\\site-packages\\matplotlib\\image.py\u001b[0m in \u001b[0;36mset_data\u001b[1;34m(self, A)\u001b[0m\n\u001b[0;32m    681\u001b[0m                 or self._A.ndim == 3 and self._A.shape[-1] in [3, 4]):\n\u001b[0;32m    682\u001b[0m             raise TypeError(\"Invalid shape {} for image data\"\n\u001b[1;32m--> 683\u001b[1;33m                             .format(self._A.shape))\n\u001b[0m\u001b[0;32m    684\u001b[0m \u001b[1;33m\u001b[0m\u001b[0m\n\u001b[0;32m    685\u001b[0m         \u001b[1;32mif\u001b[0m \u001b[0mself\u001b[0m\u001b[1;33m.\u001b[0m\u001b[0m_A\u001b[0m\u001b[1;33m.\u001b[0m\u001b[0mndim\u001b[0m \u001b[1;33m==\u001b[0m \u001b[1;36m3\u001b[0m\u001b[1;33m:\u001b[0m\u001b[1;33m\u001b[0m\u001b[1;33m\u001b[0m\u001b[0m\n",
      "\u001b[1;31mTypeError\u001b[0m: Invalid shape (1, 300, 400, 3) for image data"
     ]
    },
    {
     "data": {
      "image/png": "[encoded data removed]",
      "text/plain": [
       "<Figure size 432x288 with 1 Axes>"
      ]
     },
     "metadata": {
      "needs_background": "light"
     },
     "output_type": "display_data"
    }
   ],
   "source": [
    "for i in range(CONFIG.NUM_ITERATIONS):\n",
    "    _ = sess.run(train_step)\n",
    "    generated_image = sess.run(model['input'])\n",
    "    if i%10==0 :\n",
    "        Jt,Jc,Js = sess.run([J , J_content , J_style])\n",
    "        print(\"Iterations \" + str(i) + \":\")\n",
    "        print(\"Total cost = \" + str(Jt))\n",
    "        print(\"Content cost = \"+ str(Jc))\n",
    "        print(\"Style cost = \" + str(Js))\n",
    "        save_image(CONFIG.OUTPUT_DIR +'/'+ str(i) + \".png\", generated_image)\n",
    "\n",
    "save_image(CONFIG.OUTPUT_DIR + '/generated_image.jpg' , generated_image)"
   ]
  },
  {
   "cell_type": "code",
   "execution_count": null,
   "metadata": {},
   "outputs": [],
   "source": []
  }
 ],
 "metadata": {
  "kernelspec": {
   "display_name": "Python 3",
   "language": "python",
   "name": "python3"
  },
  "language_info": {
   "codemirror_mode": {
    "name": "ipython",
    "version": 3
   },
   "file_extension": ".py",
   "mimetype": "text/x-python",
   "name": "python",
   "nbconvert_exporter": "python",
   "pygments_lexer": "ipython3",
   "version": "3.7.3"
  }
 },
 "nbformat": 4,
 "nbformat_minor": 2
}
